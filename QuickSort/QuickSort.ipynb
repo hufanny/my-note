{
 "cells": [
  {
   "cell_type": "code",
   "execution_count": 1,
   "metadata": {},
   "outputs": [],
   "source": [
    "def QuickSort(list):\n",
    "    small=[]\n",
    "    equal=[]\n",
    "    big=[]\n",
    "    if len(list)<=1:\n",
    "        return list\n",
    "    else:\n",
    "        k=list[0]\n",
    "        for i in list:\n",
    "            if i<k:\n",
    "                small.append(i)\n",
    "            elif i>k:\n",
    "                big.append(i)\n",
    "            else:\n",
    "                equal.append(i)\n",
    "    small=QuickSort(small)\n",
    "    big=QuickSort(big)\n",
    "    return small+equal+big"
   ]
  },
  {
   "cell_type": "code",
   "execution_count": 2,
   "metadata": {},
   "outputs": [],
   "source": [
    "list=[18,9,74,22,57,2,14,34]"
   ]
  },
  {
   "cell_type": "code",
   "execution_count": 4,
   "metadata": {},
   "outputs": [
    {
     "data": {
      "text/plain": [
       "[2, 9, 14, 18, 22, 34, 57, 74]"
      ]
     },
     "execution_count": 4,
     "metadata": {},
     "output_type": "execute_result"
    }
   ],
   "source": [
    "QuickSort(list)"
   ]
  },
  {
   "cell_type": "code",
   "execution_count": null,
   "metadata": {},
   "outputs": [],
   "source": []
  }
 ],
 "metadata": {
  "kernelspec": {
   "display_name": "Python 3",
   "language": "python",
   "name": "python3"
  },
  "language_info": {
   "codemirror_mode": {
    "name": "ipython",
    "version": 3
   },
   "file_extension": ".py",
   "mimetype": "text/x-python",
   "name": "python",
   "nbconvert_exporter": "python",
   "pygments_lexer": "ipython3",
   "version": "3.7.1"
  }
 },
 "nbformat": 4,
 "nbformat_minor": 2
}
